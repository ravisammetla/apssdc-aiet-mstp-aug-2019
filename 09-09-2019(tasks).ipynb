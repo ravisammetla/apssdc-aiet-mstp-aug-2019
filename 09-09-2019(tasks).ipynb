{
 "cells": [
  {
   "cell_type": "markdown",
   "metadata": {},
   "source": [
    "Question -1:\n",
    "Maximum length: Print the words which length has maximum if multiple names has max length print that names in same line."
   ]
  },
  {
   "cell_type": "code",
   "execution_count": 15,
   "metadata": {},
   "outputs": [
    {
     "name": "stdout",
     "output_type": "stream",
     "text": [
      "sammetla\n"
     ]
    }
   ],
   "source": [
    "names=\"ravi kumar krish sammetla balu\"\n",
    "n_list=names.split(\" \")\n",
    "l=len(n_list[0])\n",
    "n=n_list[0]\n",
    "for name in n_list:\n",
    "    if(l<len(name)):\n",
    "        n=name\n",
    "print(n) "
   ]
  },
  {
   "cell_type": "markdown",
   "metadata": {},
   "source": [
    "Question -2:\n",
    "Palindrome: Need to find and print whether this string is a palindrome or not. If yes, print \"YES\" else print \"NO\"."
   ]
  },
  {
   "cell_type": "code",
   "execution_count": 17,
   "metadata": {},
   "outputs": [
    {
     "name": "stdout",
     "output_type": "stream",
     "text": [
      "kumar\n",
      "NO\n"
     ]
    }
   ],
   "source": [
    "s=input()\n",
    "l=len(s)\n",
    "cnt=0\n",
    "for i in range(0,l):\n",
    "    if(s[i]==s[l-1-i]):\n",
    "        cnt+=1\n",
    "if(cnt==l):        \n",
    "    print(\"YES\")\n",
    "else:\n",
    "    print(\"NO\")"
   ]
  },
  {
   "cell_type": "markdown",
   "metadata": {},
   "source": [
    "Question -3:\n",
    "Toggle String: You have been given a String S consisting of uppercase and lowercase English alphabets. You need to change the case of each alphabet in this String."
   ]
  },
  {
   "cell_type": "code",
   "execution_count": 16,
   "metadata": {},
   "outputs": [
    {
     "name": "stdout",
     "output_type": "stream",
     "text": [
      "RaViSaMMetLA\n",
      "rAvIsAmmETla"
     ]
    }
   ],
   "source": [
    "s=input()\n",
    "l=len(s)\n",
    "for i in range(0,l):\n",
    "    if(ord(s[i])>=65 and ord(s[i])<=90):\n",
    "        print(chr(ord(s[i])+32),end=\"\")\n",
    "    else:\n",
    "        print(chr(ord(s[i])-32),end=\"\")"
   ]
  },
  {
   "cell_type": "code",
   "execution_count": null,
   "metadata": {},
   "outputs": [],
   "source": []
  }
 ],
 "metadata": {
  "kernelspec": {
   "display_name": "Python 3",
   "language": "python",
   "name": "python3"
  },
  "language_info": {
   "codemirror_mode": {
    "name": "ipython",
    "version": 3
   },
   "file_extension": ".py",
   "mimetype": "text/x-python",
   "name": "python",
   "nbconvert_exporter": "python",
   "pygments_lexer": "ipython3",
   "version": "3.7.3"
  }
 },
 "nbformat": 4,
 "nbformat_minor": 2
}
