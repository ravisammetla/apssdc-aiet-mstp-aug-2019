{
 "cells": [
  {
   "cell_type": "markdown",
   "metadata": {},
   "source": [
    "## Data Encryption and Decryption¶\n",
    "### Data Encryption:\n",
    "- Encryption is a security method in which information is a encoded in such a way that only authorised user can read it.\n",
    "- It uses encryption algorithm to generate ciphertext that can only be read if decrypted.\n",
    "### Data decrytpion:\n",
    "- Decryption is the process of taking encoded or encryptedtext and converting it back into text that you (or) the computer can read and understand.\n",
    "\n",
    "### Types:\n",
    "|\n",
    "   ### Symmetric (private key):\n",
    "- It uses a single key that will be shared among the people who need to receive the message\n",
    "### Asymmetric(public key):\n",
    "- Uses a pair of public and private keys to encrypt and decrypt messages."
   ]
  },
  {
   "cell_type": "code",
   "execution_count": 1,
   "metadata": {},
   "outputs": [],
   "source": [
    "# Write a funtion to genarate key for encryption\n",
    "keypath = 'DataFiles/key.txt'\n",
    "def generatekey(keypath):\n",
    "    with open(keypath,'w') as f:\n",
    "        for i in range(10):\n",
    "              if i < 6:\n",
    "                  f.write(str(i)+ ' '+str(i+4)+'\\n')\n",
    "              else:\n",
    "                   f.write(str(i)+ ' '+str(i-6)+'\\n')\n",
    "    return\n",
    "generatekey(keypath)"
   ]
  },
  {
   "cell_type": "code",
   "execution_count": 2,
   "metadata": {},
   "outputs": [],
   "source": [
    "# function to decrypt a datafile\n",
    "keyfile='DataFiles/key.txt'\n",
    "def dictionaryKeyFile(keyfile):\n",
    "    key={}\n",
    "    with open(keyfile,'r')as f:\n",
    "        for line in f:\n",
    "            line=line.split()\n",
    "            key[line[0]]=line[1]\n",
    "        return key\n",
    "def encryptMarksData(datafile,keyfile):\n",
    "    key=dictionaryKeyFile(keyfile)\n",
    "    with open(datafile,'r')as f:\n",
    "        filedata=f.read().split('\\n')\n",
    "    with open('DataFiles/encryptedMarks.txt','w')as f:\n",
    "        for mark in filedata:\n",
    "            line=''\n",
    "            for n in mark:\n",
    "                line+=key[n]\n",
    "                f.write(line+'\\n')\n",
    "    return \n",
    "datafile='DataFiles/marks.txt'\n",
    "encryptMarksData(datafile,keyfile)"
   ]
  },
  {
   "cell_type": "code",
   "execution_count": 3,
   "metadata": {},
   "outputs": [
    {
     "name": "stdout",
     "output_type": "stream",
     "text": [
      "0.006150410999999911\n"
     ]
    }
   ],
   "source": [
    "# Function to decrypt a encrypted a File\n",
    "def decryptMarksData(encryptedfile, keyfile):\n",
    "    key = dictionaryKeyFile(keyfile)\n",
    "    newkey = {}\n",
    "    for key, value in key.items():\n",
    "        newkey[value] = key\n",
    "    with open(encryptedfile, 'r') as f:\n",
    "        encrypteddata = f.read().split('\\n')\n",
    "    with open('DataFiles/decryptedMarks.txt', 'w') as f:\n",
    "        for encryptedmark in encrypteddata:\n",
    "            line = ''\n",
    "        for n in encryptedmark:\n",
    "            line +=newkey[n]\n",
    "            f.write(line + '\\n')\n",
    "    return\n",
    "encryptedfile = 'DataFiles/encryptedMarks.txt'\n",
    "import timeit\n",
    "st = timeit.default_timer()\n",
    "decryptMarksData(encryptedfile, keyfile)\n",
    "print(timeit.default_timer()-st)\n"
   ]
  },
  {
   "cell_type": "markdown",
   "metadata": {},
   "source": [
    "\n",
    "### Python Libraries for Data Science\n",
    "Data science is the process of deriving knowledge and insights from a huge and diverse set of data through organizing, processing and analysing the data. It involves many different disciplines like mathematical and statistical modelling, extracting data from it source and applying data visualization techniques. There are nearly 20 python libraries for Data Science. Top five python libraries are TensorFlow NumPy SciPy Pandas Matplotlib In those libraries, Numpy and Pandas are the first choice to the data scientists who are aware of the technologies. NumPy: (Numerical Python) Numpy is Base N-Dimensional Array Package, is a python library and a fundamental package for scientific computing in Python. It is used to create multidimensional arrays for fast operations. Use the following import conversion. \\Ex: >>import numpy as np NumPy Arrays NumPy have a fixed size of arrays used to store a collection of elements, unlike python lists. There are three types of arrays called 1D, 2D and 3D arrays.\n",
    "\n",
    "### NUMPY\n",
    "Creating 1D and 2D arrays using NumPys"
   ]
  },
  {
   "cell_type": "code",
   "execution_count": 4,
   "metadata": {},
   "outputs": [
    {
     "name": "stdout",
     "output_type": "stream",
     "text": [
      "[2 4 5 6 7 9]\n",
      "<class 'numpy.ndarray'>\n"
     ]
    }
   ],
   "source": [
    "import numpy as np\n",
    "array_1d=np.array([2,4,5,6,7,9])\n",
    "print(array_1d)\n",
    "print(type(array_1d))"
   ]
  },
  {
   "cell_type": "code",
   "execution_count": 5,
   "metadata": {},
   "outputs": [
    {
     "name": "stdout",
     "output_type": "stream",
     "text": [
      "[list([2, 3, 4]) list([5, 6, 7, 9])]\n"
     ]
    }
   ],
   "source": [
    "import numpy as np\n",
    "array_2d=np.array([[2,3,4,],[5,6,7,9]])\n",
    "print(array_2d)"
   ]
  },
  {
   "cell_type": "code",
   "execution_count": 6,
   "metadata": {},
   "outputs": [
    {
     "data": {
      "text/plain": [
       "array(['1', '2', '3', 'n'], dtype='<U11')"
      ]
     },
     "execution_count": 6,
     "metadata": {},
     "output_type": "execute_result"
    }
   ],
   "source": [
    "import numpy as np\n",
    "li=[1,2,3,'n']\n",
    "a=np.array(li)\n",
    "a"
   ]
  },
  {
   "cell_type": "code",
   "execution_count": 7,
   "metadata": {},
   "outputs": [
    {
     "data": {
      "text/plain": [
       "dtype('O')"
      ]
     },
     "execution_count": 7,
     "metadata": {},
     "output_type": "execute_result"
    }
   ],
   "source": [
    "import numpy as np\n",
    "li=[1,2,3,None]\n",
    "a=np.array(li)\n",
    "a.dtype"
   ]
  },
  {
   "cell_type": "code",
   "execution_count": 8,
   "metadata": {},
   "outputs": [
    {
     "data": {
      "text/plain": [
       "dtype('float64')"
      ]
     },
     "execution_count": 8,
     "metadata": {},
     "output_type": "execute_result"
    }
   ],
   "source": [
    "import numpy as np\n",
    "li=[1,2,3,4.0]\n",
    "a=np.array(li)\n",
    "a.dtype"
   ]
  },
  {
   "cell_type": "code",
   "execution_count": 9,
   "metadata": {},
   "outputs": [
    {
     "data": {
      "text/plain": [
       "array([1., 2., 3., 4.])"
      ]
     },
     "execution_count": 9,
     "metadata": {},
     "output_type": "execute_result"
    }
   ],
   "source": [
    "import numpy as np\n",
    "li=[1,2,3,4.0]\n",
    "a=np.array(li)\n",
    "a"
   ]
  },
  {
   "cell_type": "code",
   "execution_count": 10,
   "metadata": {},
   "outputs": [
    {
     "data": {
      "text/plain": [
       "array([1., 2., 3., 4.])"
      ]
     },
     "execution_count": 10,
     "metadata": {},
     "output_type": "execute_result"
    }
   ],
   "source": [
    "import numpy as np\n",
    "li=[1,2,3,4.0]\n",
    "a=np.array(li)\n",
    "a"
   ]
  },
  {
   "cell_type": "code",
   "execution_count": 11,
   "metadata": {},
   "outputs": [
    {
     "data": {
      "text/plain": [
       "array([ 0,  1,  2,  3,  4,  5,  6,  7,  8,  9, 10, 11, 12, 13, 14])"
      ]
     },
     "execution_count": 11,
     "metadata": {},
     "output_type": "execute_result"
    }
   ],
   "source": [
    "import numpy as np\n",
    "a=np.arange(15)\n",
    "a"
   ]
  },
  {
   "cell_type": "code",
   "execution_count": 12,
   "metadata": {},
   "outputs": [
    {
     "data": {
      "text/plain": [
       "array([ 100,  101,  102, ..., 9997, 9998, 9999])"
      ]
     },
     "execution_count": 12,
     "metadata": {},
     "output_type": "execute_result"
    }
   ],
   "source": [
    "import numpy as np\n",
    "a2 = np.arange(100,10000)\n",
    "a2"
   ]
  },
  {
   "cell_type": "code",
   "execution_count": 13,
   "metadata": {},
   "outputs": [
    {
     "data": {
      "text/plain": [
       "array([ 0,  1,  2,  3,  4,  5,  6,  7,  8,  9, 10, 11, 12, 13, 14, 15, 16,\n",
       "       17, 18, 19, 20, 21, 22, 23, 24, 25, 26, 27, 28, 29, 30, 31, 32, 33,\n",
       "       34, 35, 36, 37, 38, 39, 40, 41, 42, 43, 44, 45, 46, 47, 48, 49, 50,\n",
       "       51, 52, 53, 54, 55, 56, 57, 58, 59, 60, 61, 62, 63, 64, 65, 66, 67,\n",
       "       68, 69, 70, 71, 72, 73, 74, 75, 76, 77, 78, 79, 80, 81, 82, 83, 84,\n",
       "       85, 86, 87, 88, 89, 90, 91, 92, 93, 94, 95, 96, 97, 98, 99])"
      ]
     },
     "execution_count": 13,
     "metadata": {},
     "output_type": "execute_result"
    }
   ],
   "source": [
    "a2=np.arange(100)\n",
    "a2"
   ]
  },
  {
   "cell_type": "code",
   "execution_count": 14,
   "metadata": {},
   "outputs": [
    {
     "data": {
      "text/plain": [
       "array([[ 0,  1,  2,  3,  4,  5,  6,  7,  8,  9],\n",
       "       [10, 11, 12, 13, 14, 15, 16, 17, 18, 19],\n",
       "       [20, 21, 22, 23, 24, 25, 26, 27, 28, 29],\n",
       "       [30, 31, 32, 33, 34, 35, 36, 37, 38, 39],\n",
       "       [40, 41, 42, 43, 44, 45, 46, 47, 48, 49],\n",
       "       [50, 51, 52, 53, 54, 55, 56, 57, 58, 59],\n",
       "       [60, 61, 62, 63, 64, 65, 66, 67, 68, 69],\n",
       "       [70, 71, 72, 73, 74, 75, 76, 77, 78, 79],\n",
       "       [80, 81, 82, 83, 84, 85, 86, 87, 88, 89],\n",
       "       [90, 91, 92, 93, 94, 95, 96, 97, 98, 99]])"
      ]
     },
     "execution_count": 14,
     "metadata": {},
     "output_type": "execute_result"
    }
   ],
   "source": [
    "a2=np.arange(100).reshape(10,10)\n",
    "a2"
   ]
  },
  {
   "cell_type": "markdown",
   "metadata": {},
   "source": [
    "### * Inspect the structure and Content of array using “ndarrays”\n",
    "- The most basic object in NumPy is the “ndarray” object or simply an “array”.\n",
    "- The ndarray has important attributes. They are\n",
    "- ndarray.ndim: No of dimensions of array referred as “rank”.\n",
    "- ndarray.shape: Returns the length of the array in tuple.\n",
    "- ndarray.size: Returns the size of an array.\n",
    "- ndarray.dtype: We can create or specify “dtype” using standard Python types. NumPy provides types like numpy.int32, numpy.int16, and numpy.float64\n",
    "- ndarray.itemsize: Returns the size in bytes of each element in an array\n",
    "- Create a 2D Array and inspect size, shape, dimensions and dtype of the array."
   ]
  },
  {
   "cell_type": "code",
   "execution_count": 15,
   "metadata": {},
   "outputs": [
    {
     "name": "stdout",
     "output_type": "stream",
     "text": [
      "Shape: (3, 3)\n",
      "Size: 9\n",
      "dtype: int32\n",
      "itemsize: 4\n",
      "Data: <memory at 0x000001CB01900990>\n"
     ]
    },
    {
     "data": {
      "text/plain": [
       "array([[0, 0, 0],\n",
       "       [0, 0, 1],\n",
       "       [0, 0, 1]])"
      ]
     },
     "execution_count": 15,
     "metadata": {},
     "output_type": "execute_result"
    }
   ],
   "source": [
    "# Create a 2d array and inspect size,shape,dimensions dtype of the array\n",
    "import numpy as np\n",
    "array1=np.random.randint(0,2,size=(3,3))\n",
    "array1[2][2]\n",
    "print('Shape:',array1.shape)\n",
    "print('Size:',array1.size)\n",
    "print('dtype:',array1.dtype)\n",
    "print('itemsize:',array1.itemsize)\n",
    "print('Data:',array1.data)\n",
    "array1"
   ]
  },
  {
   "cell_type": "code",
   "execution_count": 16,
   "metadata": {},
   "outputs": [
    {
     "data": {
      "text/plain": [
       "array([[ 0,  1,  2,  3,  4],\n",
       "       [ 5,  6,  7,  8,  9],\n",
       "       [10, 11, 12, 13, 14]])"
      ]
     },
     "execution_count": 16,
     "metadata": {},
     "output_type": "execute_result"
    }
   ],
   "source": [
    "import numpy as np\n",
    "a=np.arange(15).reshape(3,5)\n",
    "a"
   ]
  },
  {
   "cell_type": "code",
   "execution_count": 17,
   "metadata": {},
   "outputs": [
    {
     "data": {
      "text/plain": [
       "array([[10, 11, 12, 13, 14],\n",
       "       [ 5,  6,  7,  8,  9],\n",
       "       [ 0,  1,  2,  3,  4]])"
      ]
     },
     "execution_count": 17,
     "metadata": {},
     "output_type": "execute_result"
    }
   ],
   "source": [
    "a[::-1]"
   ]
  },
  {
   "cell_type": "code",
   "execution_count": null,
   "metadata": {},
   "outputs": [],
   "source": [
    "np.ones?"
   ]
  },
  {
   "cell_type": "code",
   "execution_count": 18,
   "metadata": {},
   "outputs": [
    {
     "data": {
      "text/plain": [
       "array([[1, 2, 3, 4],\n",
       "       [5, 6, 7, 8]])"
      ]
     },
     "execution_count": 18,
     "metadata": {},
     "output_type": "execute_result"
    }
   ],
   "source": [
    "array1 = [[1,2,3,4],[5,6,7,8]]\n",
    "a1 = np.array(array1)\n",
    "a1"
   ]
  },
  {
   "cell_type": "code",
   "execution_count": 19,
   "metadata": {},
   "outputs": [
    {
     "data": {
      "text/plain": [
       "array([[1., 1., 1.],\n",
       "       [1., 1., 1.],\n",
       "       [1., 1., 1.]])"
      ]
     },
     "execution_count": 19,
     "metadata": {},
     "output_type": "execute_result"
    }
   ],
   "source": [
    "# Create an array of 1's\n",
    "import numpy as np  \n",
    "a=np.ones((3,3))\n",
    "a"
   ]
  },
  {
   "cell_type": "code",
   "execution_count": 20,
   "metadata": {},
   "outputs": [
    {
     "data": {
      "text/plain": [
       "dtype('float64')"
      ]
     },
     "execution_count": 20,
     "metadata": {},
     "output_type": "execute_result"
    }
   ],
   "source": [
    "a.dtype"
   ]
  },
  {
   "cell_type": "code",
   "execution_count": 21,
   "metadata": {},
   "outputs": [
    {
     "name": "stdout",
     "output_type": "stream",
     "text": [
      "Shape: (2, 4)\n",
      "Data Type: int32\n",
      "Size: 8\n",
      "Dimention: 2\n"
     ]
    }
   ],
   "source": [
    "print(\"Shape:\",a1.shape)\n",
    "print(\"Data Type:\",a1.dtype)\n",
    "print(\"Size:\",a1.size)\n",
    "print(\"Dimention:\",a1.ndim)"
   ]
  },
  {
   "cell_type": "code",
   "execution_count": 22,
   "metadata": {},
   "outputs": [
    {
     "data": {
      "text/plain": [
       "array([[1., 1., 1.],\n",
       "       [1., 1., 1.],\n",
       "       [1., 1., 1.]])"
      ]
     },
     "execution_count": 22,
     "metadata": {},
     "output_type": "execute_result"
    }
   ],
   "source": [
    "import numpy as np  \n",
    "a=np.ones((3,3))\n",
    "a"
   ]
  },
  {
   "cell_type": "code",
   "execution_count": 23,
   "metadata": {},
   "outputs": [
    {
     "data": {
      "text/plain": [
       "array([[   1,    2,    3],\n",
       "       [1030,  300, 3300],\n",
       "       [  11,   56,   60]])"
      ]
     },
     "execution_count": 23,
     "metadata": {},
     "output_type": "execute_result"
    }
   ],
   "source": [
    "b=[[1,2,3],[1030,300,3300],[11,56,60]]\n",
    "c=np.array(b)\n",
    "c"
   ]
  },
  {
   "cell_type": "code",
   "execution_count": 24,
   "metadata": {},
   "outputs": [
    {
     "data": {
      "text/plain": [
       "array([[   2,    3,    4],\n",
       "       [1031,  301, 3301],\n",
       "       [  12,   57,   61]])"
      ]
     },
     "execution_count": 24,
     "metadata": {},
     "output_type": "execute_result"
    }
   ],
   "source": [
    "d=c+1\n",
    "d"
   ]
  },
  {
   "cell_type": "code",
   "execution_count": 25,
   "metadata": {},
   "outputs": [
    {
     "name": "stdout",
     "output_type": "stream",
     "text": [
      "[[1 2 3]\n",
      " [4 5 6]]\n",
      "[[ 5  6  7]\n",
      " [ 8  9 10]]\n",
      "[[ 6  8 10]\n",
      " [12 14 16]] \n",
      "\n",
      "[[0.2        0.33333333 0.42857143]\n",
      " [0.5        0.55555556 0.6       ]]\n"
     ]
    }
   ],
   "source": [
    "# We can perform arithematic operations in Numpy like Addition,subtraction,product,division\n",
    "a=np.arange(1,7).reshape(2,3)\n",
    "b=np.arange(5,11).reshape(2,3)\n",
    "print(a)\n",
    "print(b)\n",
    "print(a+b,'\\n')\n",
    "print(a/b)"
   ]
  },
  {
   "cell_type": "code",
   "execution_count": 26,
   "metadata": {},
   "outputs": [
    {
     "name": "stdout",
     "output_type": "stream",
     "text": [
      "[7.74596669 8.1240384  8.36660027]\n",
      "[-0.30481062 -0.02655115  0.77389068]\n",
      "[-0.95241298 -0.99964746  0.6333192 ]\n",
      "[4.09434456 4.18965474 4.24849524]\n"
     ]
    }
   ],
   "source": [
    "a = [60,66,70]\n",
    "a1 = np.array(a)\n",
    "print(np.sqrt(a1))\n",
    "print(np.sin(a1))\n",
    "print(np.cos(a1))\n",
    "print(np.log(a1))"
   ]
  },
  {
   "cell_type": "code",
   "execution_count": null,
   "metadata": {},
   "outputs": [],
   "source": []
  }
 ],
 "metadata": {
  "kernelspec": {
   "display_name": "Python 3",
   "language": "python",
   "name": "python3"
  },
  "language_info": {
   "codemirror_mode": {
    "name": "ipython",
    "version": 3
   },
   "file_extension": ".py",
   "mimetype": "text/x-python",
   "name": "python",
   "nbconvert_exporter": "python",
   "pygments_lexer": "ipython3",
   "version": "3.7.3"
  }
 },
 "nbformat": 4,
 "nbformat_minor": 2
}
