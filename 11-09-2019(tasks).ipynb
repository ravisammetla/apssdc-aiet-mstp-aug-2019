{
 "cells": [
  {
   "cell_type": "markdown",
   "metadata": {},
   "source": [
    "Question-1:\n",
    "Prime Number: need to print the series of all prime numbers till N."
   ]
  },
  {
   "cell_type": "code",
   "execution_count": 9,
   "metadata": {},
   "outputs": [
    {
     "name": "stdout",
     "output_type": "stream",
     "text": [
      "enter range25\n",
      "2\n",
      "3\n",
      "5\n",
      "7\n",
      "11\n",
      "13\n",
      "17\n",
      "19\n",
      "23\n"
     ]
    }
   ],
   "source": [
    "s=int(input(\"enter range\"))\n",
    "for a in range(2,s+1):\n",
    "    j=0\n",
    "    for i in range(2,a//2+1):\n",
    "        if(a%i==0):\n",
    "            j=j+1\n",
    "    if(j<=0):\n",
    "        print(a)\n",
    "        "
   ]
  },
  {
   "cell_type": "markdown",
   "metadata": {},
   "source": [
    "Question-2:\n",
    "Count Divisors: You have been given 3 integers - l, r and k. Find how many numbers between l and r (both inclusive) are divisible by k."
   ]
  },
  {
   "cell_type": "code",
   "execution_count": 10,
   "metadata": {},
   "outputs": [
    {
     "name": "stdout",
     "output_type": "stream",
     "text": [
      "2 60 3\n",
      "20\n"
     ]
    }
   ],
   "source": [
    "l,r,k=map(int,input().split(\" \"))\n",
    "cnt=0\n",
    "for i in range(l,r+1):\n",
    "    if(i%k==0):\n",
    "        cnt=cnt+1\n",
    "print(cnt)   "
   ]
  },
  {
   "cell_type": "markdown",
   "metadata": {},
   "source": [
    "Question-3:\n",
    "Word Frequency: need to print words with frequency from given sentence (string) in dictionary format"
   ]
  },
  {
   "cell_type": "code",
   "execution_count": 11,
   "metadata": {},
   "outputs": [
    {
     "name": "stdout",
     "output_type": "stream",
     "text": [
      "ravi kumar ramu srinu ravi vishnu kumar\n",
      "{'ravi': 2, 'kumar': 2, 'ramu': 1, 'srinu': 1, 'vishnu': 1}\n"
     ]
    }
   ],
   "source": [
    "n=input()\n",
    "n_words=n.split(\" \")\n",
    "c={}\n",
    "l=len(n_words)\n",
    "for i in range(0,l):\n",
    "    count=0\n",
    "    for k in range(0,l):\n",
    "        if(n_words[i]==n_words[k]):\n",
    "            count=count+1\n",
    "    c[n_words[i]]=count\n",
    "print(c)"
   ]
  },
  {
   "cell_type": "code",
   "execution_count": null,
   "metadata": {},
   "outputs": [],
   "source": []
  }
 ],
 "metadata": {
  "kernelspec": {
   "display_name": "Python 3",
   "language": "python",
   "name": "python3"
  },
  "language_info": {
   "codemirror_mode": {
    "name": "ipython",
    "version": 3
   },
   "file_extension": ".py",
   "mimetype": "text/x-python",
   "name": "python",
   "nbconvert_exporter": "python",
   "pygments_lexer": "ipython3",
   "version": "3.7.3"
  }
 },
 "nbformat": 4,
 "nbformat_minor": 2
}
