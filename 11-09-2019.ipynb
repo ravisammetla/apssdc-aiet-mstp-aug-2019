{
 "cells": [
  {
   "cell_type": "markdown",
   "metadata": {},
   "source": [
    "# Dictionaries:"
   ]
  },
  {
   "cell_type": "markdown",
   "metadata": {},
   "source": [
    "- it is an unordered set of key and value pair \n",
    "- it is container that contains data enclosed with curly braces{}\n",
    "- the pair i.e keys and values is known as item."
   ]
  },
  {
   "cell_type": "code",
   "execution_count": 4,
   "metadata": {},
   "outputs": [
    {
     "name": "stdout",
     "output_type": "stream",
     "text": [
      "{1: 'python', 2: 'c', 3: 'java', 'd': 'android'}\n"
     ]
    }
   ],
   "source": [
    "dict={1:'python',2:'c',3:'java','d':\"android\"}\n",
    "print(dict)"
   ]
  },
  {
   "cell_type": "code",
   "execution_count": 5,
   "metadata": {},
   "outputs": [
    {
     "name": "stdout",
     "output_type": "stream",
     "text": [
      "python\n"
     ]
    }
   ],
   "source": [
    "# Accessing Dictionary Values\n",
    "dict={1:'python',2:'c',3:'java','d':\"android\"}\n",
    "print(dict[1])"
   ]
  },
  {
   "cell_type": "code",
   "execution_count": 6,
   "metadata": {},
   "outputs": [
    {
     "name": "stdout",
     "output_type": "stream",
     "text": [
      "python\n",
      "python\n",
      "c\n",
      "java\n",
      "android\n"
     ]
    }
   ],
   "source": [
    "dict={1:'python',2:'c',3:'java','d':\"android\"}\n",
    "print(dict[1])\n",
    "for x in dict.keys():\n",
    "    print(dict[x])"
   ]
  },
  {
   "cell_type": "code",
   "execution_count": 7,
   "metadata": {},
   "outputs": [
    {
     "name": "stdout",
     "output_type": "stream",
     "text": [
      "dict_keys([1, 2, 3, 'd'])\n"
     ]
    }
   ],
   "source": [
    "dict={1:'python',2:'c',3:'java','d':\"android\"}\n",
    "print(dict.keys())"
   ]
  },
  {
   "cell_type": "code",
   "execution_count": 9,
   "metadata": {},
   "outputs": [
    {
     "name": "stdout",
     "output_type": "stream",
     "text": [
      "{1: 'python', 2: 'c', 3: 'java', 'd': 'android', 4: 'PHP'}\n"
     ]
    }
   ],
   "source": [
    "# Updating the Dictionary elements\n",
    "dict={1:'python',2:'c',3:'java','d':\"android\"}\n",
    "dict[4]='PHP'\n",
    "print(dict)"
   ]
  },
  {
   "cell_type": "code",
   "execution_count": 10,
   "metadata": {},
   "outputs": [
    {
     "name": "stdout",
     "output_type": "stream",
     "text": [
      "{1: 'python', 2: 'c', 3: 'java', 'd': 'android', 4: 'PHP', 5: 'c#'}\n"
     ]
    }
   ],
   "source": [
    "# Updating the Dictionary elements\n",
    "dict={1:'python',2:'c',3:'java','d':\"android\"}\n",
    "dict[4]='PHP'\n",
    "dict[5]='c#'\n",
    "print(dict)"
   ]
  },
  {
   "cell_type": "code",
   "execution_count": 11,
   "metadata": {},
   "outputs": [
    {
     "name": "stdout",
     "output_type": "stream",
     "text": [
      "{1: 'python', 2: 'c', 'd': 'android'}\n"
     ]
    }
   ],
   "source": [
    "# DEleting Dictionary Elements\n",
    "dict={1:'python',2:'c',3:'java','d':\"android\"}\n",
    "del dict[3]\n",
    "print(dict)"
   ]
  },
  {
   "cell_type": "code",
   "execution_count": 12,
   "metadata": {},
   "outputs": [
    {
     "name": "stdout",
     "output_type": "stream",
     "text": [
      "{}\n"
     ]
    }
   ],
   "source": [
    "dict={1:'python',2:'c',3:'java','d':\"android\"} \n",
    "dict.clear()\n",
    "print(dict)"
   ]
  },
  {
   "cell_type": "code",
   "execution_count": 13,
   "metadata": {},
   "outputs": [
    {
     "name": "stdout",
     "output_type": "stream",
     "text": [
      "4\n"
     ]
    }
   ],
   "source": [
    "#len()\n",
    "dict={1:'python',2:'c',3:'java','d':\"android\"}\n",
    "print(len(dict))"
   ]
  },
  {
   "cell_type": "code",
   "execution_count": 15,
   "metadata": {},
   "outputs": [
    {
     "name": "stdout",
     "output_type": "stream",
     "text": [
      "{1: 'python', 2: 'c', 3: 'java', 'd': 'android'}\n"
     ]
    }
   ],
   "source": [
    "# String()\n",
    "dict={1:'python',2:'c',3:'java','d':\"android\"}\n",
    "print(str(dict))"
   ]
  },
  {
   "cell_type": "code",
   "execution_count": 18,
   "metadata": {},
   "outputs": [
    {
     "name": "stdout",
     "output_type": "stream",
     "text": [
      "<class 'dict'>\n"
     ]
    }
   ],
   "source": [
    "#type()\n",
    "dict={1:'python',2:'c',3:'java','d':\"android\"}\n",
    "print(type(dict))"
   ]
  },
  {
   "cell_type": "code",
   "execution_count": 19,
   "metadata": {},
   "outputs": [
    {
     "name": "stdout",
     "output_type": "stream",
     "text": [
      "{1: 'python', 2: 'c', 3: 'java', 'd': 'android'}\n"
     ]
    }
   ],
   "source": [
    "#copy()\n",
    "dict1={1:'python',2:'c',3:'java','d':\"android\"}\n",
    "dict2=dict1.copy()\n",
    "print(dict2)"
   ]
  },
  {
   "cell_type": "code",
   "execution_count": 21,
   "metadata": {},
   "outputs": [
    {
     "name": "stdout",
     "output_type": "stream",
     "text": [
      "new dict:{'java': None, 'android': None, 'c++': None}\n",
      "New Dictionary:{'java': 50, 'android': 50, 'c++': 50}\n"
     ]
    }
   ],
   "source": [
    "# Fromkey()--the method from keys() creates a new dictionary with keys from sequence and values set to a value\n",
    "seq=('java','android','c++')\n",
    "dict=dict.fromkeys(seq)\n",
    "print(\"new dict:%s\"%str(dict))\n",
    "dict=dict.fromkeys(seq,50)\n",
    "print(\"New Dictionary:%s\"% str(dict))"
   ]
  },
  {
   "cell_type": "code",
   "execution_count": 22,
   "metadata": {},
   "outputs": [
    {
     "name": "stdout",
     "output_type": "stream",
     "text": [
      "{1: 'mstp', 2: 'c', 3: 'java', 'd': 'android', 5: 'digitaltools'}\n"
     ]
    }
   ],
   "source": [
    "#dict1.update(dict2)\n",
    "dict1={1:'python',2:'c',3:'java','d':\"android\"}\n",
    "dict2={1:'mstp',5:'digitaltools'}\n",
    "dict1.update(dict2)\n",
    "print(dict1)"
   ]
  },
  {
   "cell_type": "code",
   "execution_count": 23,
   "metadata": {},
   "outputs": [
    {
     "name": "stdout",
     "output_type": "stream",
     "text": [
      "dict_values(['python', 'c', 'java', 'android'])\n"
     ]
    }
   ],
   "source": [
    "#value()\n",
    "dict1={1:'python',2:'c',3:'java','d':\"android\"}\n",
    "values=dict1.values()\n",
    "print(values)"
   ]
  },
  {
   "cell_type": "code",
   "execution_count": 24,
   "metadata": {},
   "outputs": [
    {
     "name": "stdout",
     "output_type": "stream",
     "text": [
      "swamy\n",
      "apssdc\n"
     ]
    }
   ],
   "source": [
    "#dict.setdefault(key,default=none)\n",
    "#dict[key]=default if key is not already in dict\n",
    "#key - searched\n",
    "#default - returned in case key is not found\n",
    "dict={'emp_name':'swamy','age':21,'emp_id':101}\n",
    "dict.setdefault('company','apssdc')\n",
    "print(dict['emp_name'])\n",
    "print(dict['company'])"
   ]
  },
  {
   "cell_type": "code",
   "execution_count": 25,
   "metadata": {},
   "outputs": [
    {
     "name": "stdout",
     "output_type": "stream",
     "text": [
      "{'a': 1, 'b': 2, 'c': 3, 'd': 4, 'e': 5}\n"
     ]
    }
   ],
   "source": [
    "# how to create a dictionary from two lists\n",
    "a=[1,2,3,4,5]\n",
    "b=['a','b','c','d','e']\n",
    "c={}\n",
    "for i in range(len(a)):\n",
    "    c[b[i]]=a[i]\n",
    "print(c)"
   ]
  },
  {
   "cell_type": "code",
   "execution_count": 26,
   "metadata": {},
   "outputs": [],
   "source": [
    "#Dictionary is mutable\n",
    "# key must be unique and immutable value is accessed by key.value can be updated\n",
    "#while key cannot be changed\n",
    "#dictionary is known as associative array since the key words as index and they are desided by the user"
   ]
  },
  {
   "cell_type": "code",
   "execution_count": 1,
   "metadata": {},
   "outputs": [
    {
     "data": {
      "text/plain": [
       "2"
      ]
     },
     "execution_count": 1,
     "metadata": {},
     "output_type": "execute_result"
    }
   ],
   "source": [
    "h={1:2,3:4}\n",
    "h.get(1,'no value')"
   ]
  },
  {
   "cell_type": "code",
   "execution_count": 2,
   "metadata": {},
   "outputs": [
    {
     "data": {
      "text/plain": [
       "{'i': 2, 'a': 2, 'm': 1, ' ': 2, 'r': 2, 'v': 1, 's': 1, 'k': 2, '!': 2}"
      ]
     },
     "execution_count": 2,
     "metadata": {},
     "output_type": "execute_result"
    }
   ],
   "source": [
    "s=\"iam ravi srkk!!\"\n",
    "d={}\n",
    "for char in s:\n",
    "    d[char]=d.get(char,0)+1\n",
    "d"
   ]
  },
  {
   "cell_type": "markdown",
   "metadata": {},
   "source": [
    "## module"
   ]
  },
  {
   "cell_type": "code",
   "execution_count": 3,
   "metadata": {},
   "outputs": [],
   "source": [
    "#- module is nothing but python file\n",
    "#- it may contain attribute classes and methods\n",
    "#- we can use 'import' keyword to import required modules in current file"
   ]
  },
  {
   "cell_type": "code",
   "execution_count": 4,
   "metadata": {},
   "outputs": [],
   "source": [
    "import math"
   ]
  },
  {
   "cell_type": "code",
   "execution_count": 5,
   "metadata": {},
   "outputs": [
    {
     "data": {
      "text/plain": [
       "3.141592653589793"
      ]
     },
     "execution_count": 5,
     "metadata": {},
     "output_type": "execute_result"
    }
   ],
   "source": [
    "math.pi"
   ]
  },
  {
   "cell_type": "code",
   "execution_count": 6,
   "metadata": {},
   "outputs": [
    {
     "data": {
      "text/plain": [
       "2.718281828459045"
      ]
     },
     "execution_count": 6,
     "metadata": {},
     "output_type": "execute_result"
    }
   ],
   "source": [
    "\n",
    "math.e"
   ]
  },
  {
   "cell_type": "code",
   "execution_count": 7,
   "metadata": {},
   "outputs": [
    {
     "data": {
      "text/plain": [
       "120"
      ]
     },
     "execution_count": 7,
     "metadata": {},
     "output_type": "execute_result"
    }
   ],
   "source": [
    "math.factorial(5)"
   ]
  },
  {
   "cell_type": "code",
   "execution_count": 8,
   "metadata": {},
   "outputs": [
    {
     "data": {
      "text/plain": [
       "4.0"
      ]
     },
     "execution_count": 8,
     "metadata": {},
     "output_type": "execute_result"
    }
   ],
   "source": [
    "math.sqrt(16)"
   ]
  },
  {
   "cell_type": "code",
   "execution_count": 9,
   "metadata": {},
   "outputs": [
    {
     "data": {
      "text/plain": [
       "16.0"
      ]
     },
     "execution_count": 9,
     "metadata": {},
     "output_type": "execute_result"
    }
   ],
   "source": [
    "math.pow(4,2)"
   ]
  },
  {
   "cell_type": "code",
   "execution_count": 10,
   "metadata": {},
   "outputs": [
    {
     "data": {
      "text/plain": [
       "2"
      ]
     },
     "execution_count": 10,
     "metadata": {},
     "output_type": "execute_result"
    }
   ],
   "source": [
    "math.floor(2.8675)"
   ]
  },
  {
   "cell_type": "code",
   "execution_count": 11,
   "metadata": {},
   "outputs": [
    {
     "data": {
      "text/plain": [
       "5"
      ]
     },
     "execution_count": 11,
     "metadata": {},
     "output_type": "execute_result"
    }
   ],
   "source": [
    "math.ceil(4.7)"
   ]
  },
  {
   "cell_type": "code",
   "execution_count": 12,
   "metadata": {},
   "outputs": [],
   "source": [
    "# example program for time and webbrowser modules\n",
    "import webbrowser\n",
    "import time\n",
    "fav_sites=[\"www.google.com\",\"youtube.com\",\"engineering.apssdc.in\"]\n",
    "for url in fav_sites:\n",
    "    webbrowser.open(url)\n",
    "    time.sleep(5)"
   ]
  },
  {
   "cell_type": "markdown",
   "metadata": {},
   "source": [
    "def add(a,b):\n",
    "    return(a+b)\n",
    "def sub(a,b):\n",
    "    return(a-b)\n",
    "def mul(a,b):\n",
    "    return(a*b)\n",
    "def div(a,b):\n",
    "    return(a//b)"
   ]
  },
  {
   "cell_type": "code",
   "execution_count": 24,
   "metadata": {},
   "outputs": [
    {
     "data": {
      "text/plain": [
       "5"
      ]
     },
     "execution_count": 24,
     "metadata": {},
     "output_type": "execute_result"
    }
   ],
   "source": [
    "import Basic_operations as b\n",
    "b.add(2,3)"
   ]
  },
  {
   "cell_type": "code",
   "execution_count": 25,
   "metadata": {},
   "outputs": [
    {
     "data": {
      "text/plain": [
       "2"
      ]
     },
     "execution_count": 25,
     "metadata": {},
     "output_type": "execute_result"
    }
   ],
   "source": [
    "\n",
    "import Basic_operations as b\n",
    "b.sub(7,5)"
   ]
  },
  {
   "cell_type": "code",
   "execution_count": 26,
   "metadata": {},
   "outputs": [
    {
     "data": {
      "text/plain": [
       "2"
      ]
     },
     "execution_count": 26,
     "metadata": {},
     "output_type": "execute_result"
    }
   ],
   "source": [
    "import Basic_operations as b\n",
    "b.div(4,2)"
   ]
  },
  {
   "cell_type": "code",
   "execution_count": 28,
   "metadata": {},
   "outputs": [],
   "source": [
    "import advanced_operations"
   ]
  },
  {
   "cell_type": "code",
   "execution_count": 30,
   "metadata": {},
   "outputs": [
    {
     "data": {
      "text/plain": [
       "True"
      ]
     },
     "execution_count": 30,
     "metadata": {},
     "output_type": "execute_result"
    }
   ],
   "source": [
    "import advanced_operations as a\n",
    "a.isprime(7)"
   ]
  },
  {
   "cell_type": "code",
   "execution_count": 32,
   "metadata": {},
   "outputs": [
    {
     "name": "stdout",
     "output_type": "stream",
     "text": [
      "2\n",
      "3\n",
      "5\n"
     ]
    }
   ],
   "source": [
    "import advanced_operations as s\n",
    "for i in range(2,7):\n",
    "    if s.isprime(i):\n",
    "        print(i)"
   ]
  },
  {
   "cell_type": "code",
   "execution_count": 37,
   "metadata": {},
   "outputs": [
    {
     "data": {
      "text/plain": [
       "12"
      ]
     },
     "execution_count": 37,
     "metadata": {},
     "output_type": "execute_result"
    }
   ],
   "source": [
    "import mypackage.Basic_operations as mb\n",
    "mb.add(5,7)"
   ]
  },
  {
   "cell_type": "code",
   "execution_count": 39,
   "metadata": {},
   "outputs": [
    {
     "data": {
      "text/plain": [
       "True"
      ]
     },
     "execution_count": 39,
     "metadata": {},
     "output_type": "execute_result"
    }
   ],
   "source": [
    "import mypackage.advanced_operations as a\n",
    "a.isprime(7)"
   ]
  },
  {
   "cell_type": "code",
   "execution_count": 40,
   "metadata": {},
   "outputs": [],
   "source": [
    "from mypackage import *"
   ]
  },
  {
   "cell_type": "code",
   "execution_count": 42,
   "metadata": {},
   "outputs": [
    {
     "data": {
      "text/plain": [
       "5"
      ]
     },
     "execution_count": 42,
     "metadata": {},
     "output_type": "execute_result"
    }
   ],
   "source": [
    "Basic_operations.add(2,3)"
   ]
  },
  {
   "cell_type": "code",
   "execution_count": null,
   "metadata": {},
   "outputs": [],
   "source": []
  }
 ],
 "metadata": {
  "kernelspec": {
   "display_name": "Python 3",
   "language": "python",
   "name": "python3"
  },
  "language_info": {
   "codemirror_mode": {
    "name": "ipython",
    "version": 3
   },
   "file_extension": ".py",
   "mimetype": "text/x-python",
   "name": "python",
   "nbconvert_exporter": "python",
   "pygments_lexer": "ipython3",
   "version": "3.7.3"
  }
 },
 "nbformat": 4,
 "nbformat_minor": 2
}
