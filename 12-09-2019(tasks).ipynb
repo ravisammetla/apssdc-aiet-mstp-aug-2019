{
 "cells": [
  {
   "cell_type": "markdown",
   "metadata": {},
   "source": [
    "Question 1:\n",
    "Mobile Number Validation:\n",
    "You have been given mobile numbers separated by “,” you need to valid those mobile numbers\n",
    "If valid print True otherwise False\n",
    "Rules:\n",
    "Mobile number should have 10 digits\n",
    "Mobile number should not contain any characters\n",
    "Mobile number should start with (9,8,7,6) series only"
   ]
  },
  {
   "cell_type": "code",
   "execution_count": 8,
   "metadata": {},
   "outputs": [
    {
     "name": "stdout",
     "output_type": "stream",
     "text": [
      "9885587654,5647839439,982838281,6799867354,93o9289234\n",
      "Valid\n",
      "Not valid\n",
      "Not valid\n",
      "Valid\n",
      "Not valid\n"
     ]
    }
   ],
   "source": [
    "import re\n",
    "def isphonenum(pattern):\n",
    "    if re.search('^[6-9]\\d{9}',pattern):\n",
    "        print(\"Valid\")\n",
    "    else:\n",
    "        print(\"Not valid\")\n",
    "num=input(\"\").split(',')\n",
    "for i in num:\n",
    "    isphonenum(i)"
   ]
  },
  {
   "cell_type": "markdown",
   "metadata": {},
   "source": [
    "Question 2:\n",
    "Goki wants to have some more friends in his life. Goki has N people who he can be friends with, so he decides to choose among them according to their skills set Yi(1<=i<=n). He wants atleast X skills in his friends."
   ]
  },
  {
   "cell_type": "code",
   "execution_count": 1,
   "metadata": {},
   "outputs": [
    {
     "name": "stdout",
     "output_type": "stream",
     "text": [
      "5\n",
      "100\n",
      "110\n",
      "130\n",
      "90\n",
      "100\n",
      "45\n",
      "YES\n",
      "YES\n",
      "NO\n",
      "YES\n",
      "NO\n"
     ]
    }
   ],
   "source": [
    "i=int(input())\n",
    "j=int(input())\n",
    "list=[]\n",
    "for s in range(i):\n",
    "    list.append(int(input()))\n",
    "for s in list:\n",
    "    if(s>=j):\n",
    "        print('YES')\n",
    "    else:\n",
    "        print('NO')"
   ]
  }
 ],
 "metadata": {
  "kernelspec": {
   "display_name": "Python 3",
   "language": "python",
   "name": "python3"
  },
  "language_info": {
   "codemirror_mode": {
    "name": "ipython",
    "version": 3
   },
   "file_extension": ".py",
   "mimetype": "text/x-python",
   "name": "python",
   "nbconvert_exporter": "python",
   "pygments_lexer": "ipython3",
   "version": "3.7.3"
  }
 },
 "nbformat": 4,
 "nbformat_minor": 2
}
