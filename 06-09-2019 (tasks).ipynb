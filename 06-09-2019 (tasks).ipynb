{
 "cells": [
  {
   "cell_type": "markdown",
   "metadata": {},
   "source": [
    "Question-1: Write a Python Program to largest of three given numbers (using input statement)"
   ]
  },
  {
   "cell_type": "code",
   "execution_count": 1,
   "metadata": {},
   "outputs": [
    {
     "name": "stdout",
     "output_type": "stream",
     "text": [
      "enter first number31\n",
      "enter second number75\n",
      "enter third number21\n",
      "75 is largest number\n"
     ]
    }
   ],
   "source": [
    "a=int(input(\"enter first number\"))\n",
    "b=int(input(\"enter second number\"))\n",
    "c=int(input(\"enter third number\"))\n",
    "if a>b:\n",
    "    if a>c:\n",
    "        print(a,\"is largest number\")\n",
    "    else:\n",
    "        print(c,\"is largest number\")\n",
    "elif b>a:\n",
    "    if b>c:\n",
    "        print(b,\"is largest number\")\n",
    "    else:\n",
    "        print(c,\"is largest number\")"
   ]
  },
  {
   "cell_type": "markdown",
   "metadata": {},
   "source": [
    "Question -2: Write a python program to find the given number(N) in given range(lower bound-upper bound)"
   ]
  },
  {
   "cell_type": "code",
   "execution_count": 3,
   "metadata": {},
   "outputs": [
    {
     "name": "stdout",
     "output_type": "stream",
     "text": [
      "enter lower bound value10\n",
      "enter upper bound value20\n",
      "enter N:15\n",
      "entered number is exist\n"
     ]
    }
   ],
   "source": [
    "a=int(input(\"enter lower bound value\"))\n",
    "b=int(input(\"enter upper bound value\"))\n",
    "c=int(input(\"enter N:\"))\n",
    "if c>a and c<b:\n",
    "    print(\"entered number is exist\")"
   ]
  },
  {
   "cell_type": "code",
   "execution_count": null,
   "metadata": {},
   "outputs": [],
   "source": []
  }
 ],
 "metadata": {
  "kernelspec": {
   "display_name": "Python 3",
   "language": "python",
   "name": "python3"
  },
  "language_info": {
   "codemirror_mode": {
    "name": "ipython",
    "version": 3
   },
   "file_extension": ".py",
   "mimetype": "text/x-python",
   "name": "python",
   "nbconvert_exporter": "python",
   "pygments_lexer": "ipython3",
   "version": "3.7.3"
  }
 },
 "nbformat": 4,
 "nbformat_minor": 2
}
